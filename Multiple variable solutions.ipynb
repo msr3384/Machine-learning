{
 "cells": [
  {
   "cell_type": "code",
   "execution_count": 62,
   "id": "77f18185",
   "metadata": {},
   "outputs": [],
   "source": [
    "import numpy as np\n",
    "import matplotlib.pyplot as plt\n",
    "import copy, math\n",
    "plt.style.use('seaborn')\n",
    "np.set_printoptions(precision = 2)"
   ]
  },
  {
   "cell_type": "markdown",
   "id": "c8970908",
   "metadata": {},
   "source": [
    "|Size(sqrt)|Number of Bedrooms|Number of floors|Age of Home|Price(1000s dollars|\n",
    "| --- | --- | --- | --- | --- |\n",
    "| 2104 | 5 | 1 | 45 | 460 |\n",
    "| 1416 | 3 | 2 | 40 | 232 |\n",
    "| 852 | 2 | 1 | 35 | 178 |"
   ]
  },
  {
   "cell_type": "code",
   "execution_count": 63,
   "id": "12e31f46",
   "metadata": {},
   "outputs": [],
   "source": [
    "x_train = np.array([[2104, 5, 1, 45],[1416, 3, 2, 40], [852, 2, 1, 35]])\n",
    "y_train = np.array([460, 232, 178])"
   ]
  },
  {
   "cell_type": "code",
   "execution_count": 64,
   "id": "f1876c6c",
   "metadata": {},
   "outputs": [
    {
     "name": "stdout",
     "output_type": "stream",
     "text": [
      "X Shape: (3, 4), X Type: <class 'numpy.ndarray'>\n",
      "[[2104    5    1   45]\n",
      " [1416    3    2   40]\n",
      " [ 852    2    1   35]]\n",
      "Y Shape: (3,), Y Type: <class 'numpy.ndarray'>\n",
      "[460 232 178]\n"
     ]
    }
   ],
   "source": [
    "# data is stored in numpy array/matrix\n",
    "print(f'X Shape: {x_train.shape}, X Type: {type(x_train)}')\n",
    "print(x_train)\n",
    "print(f'Y Shape: {y_train.shape}, Y Type: {type(y_train)}')\n",
    "print(y_train)"
   ]
  },
  {
   "cell_type": "markdown",
   "id": "0070a62d",
   "metadata": {},
   "source": [
    "# How to write a matrix and a vector in markdown\n",
    "- Matrix\n",
    "\n",
    "    $$ \\begin{bmatrix}1 & x_{1}\\\\\n",
    "1 & x_{2}\\\\\n",
    "1 & x_{3}\n",
    "\\end{bmatrix}$$"
   ]
  },
  {
   "cell_type": "markdown",
   "id": "3b26c73b",
   "metadata": {},
   "source": [
    "# Parameter vector w, b\n",
    "- w is a vector of n elements.\n",
    "    - Each element contains the parameter associated with one feature.\n",
    "    - in our dataset, n is 4.\n",
    "    - notionally, we draw this as a column vector\n",
    "        \n",
    "        $$ \\mathbf{\\text{w}} =  \\begin{bmatrix}    w_{0}\\\\\n",
    "            w_{1}\\\\\n",
    "      ...\\\\\n",
    "      w_{n-1}\n",
    "    \\end{bmatrix}$$\n",
    "- b is a scalar parameter.\n"
   ]
  },
  {
   "cell_type": "code",
   "execution_count": 98,
   "id": "02ab8252",
   "metadata": {},
   "outputs": [
    {
     "name": "stdout",
     "output_type": "stream",
     "text": [
      "w_init shape: (4,), w_init: [  0.39  18.75 -53.36 -26.42], b_init type:<class 'float'>,b_init: 785.1811367994083\n"
     ]
    }
   ],
   "source": [
    "import random\n",
    "#b_init = random.random()\n",
    "b_init = 785.1811367994083 # This is the trained bias for optimal solution\n",
    "#w_init = np.array(random.sample(range(-100, 100),4))\n",
    "w_init = np.array([0.39133535, 18.75376741, -53.36032453, -26.42131618]) # this is the trained weight for prediction\n",
    "print(f'w_init shape: {w_init.shape}, w_init: {w_init}, b_init type:{type(b_init)},b_init: { b_init}')"
   ]
  },
  {
   "cell_type": "code",
   "execution_count": 99,
   "id": "aa112b9a",
   "metadata": {},
   "outputs": [],
   "source": [
    "def predict_single_loop(x,w,b):\n",
    "    \"\"\"single predict using linear regression\n",
    "    \n",
    "    Args: \n",
    "        x (ndarray) : Shape (n, ) example with multiple features.\n",
    "        w (ndarray) : Shape (n, ) model weights\n",
    "        b (scalar) : bias parameter\n",
    "        \n",
    "    return: \n",
    "        p (scalar) : prediction.\n",
    "    \"\"\"\n",
    "    n = x.shape[0]   # This will give the shape of the x along axis = 0.\n",
    "    p = 0\n",
    "    for i in range(n):\n",
    "        p_i = x[i]*w[i]\n",
    "        p += p_i\n",
    "    p += b\n",
    "    return p"
   ]
  },
  {
   "cell_type": "code",
   "execution_count": 100,
   "id": "e1e287ec",
   "metadata": {},
   "outputs": [
    {
     "name": "stdout",
     "output_type": "stream",
     "text": [
      "x_vec shape: (4,),x_vec value : [2104    5    1   45]\n",
      "f_wb shape: (), prediction is : 459.9999976194083\n"
     ]
    }
   ],
   "source": [
    "# Get the first row of the training data\n",
    "x_vec = x_train[0,:]\n",
    "print(f'x_vec shape: {x_vec.shape},x_vec value : {x_vec}')\n",
    "\n",
    "# Make a prediction using x_vec and w_init\n",
    "f_wb = predict_single_loop(x_vec, w_init, b_init)\n",
    "print(f'f_wb shape: {f_wb.shape}, prediction is : {f_wb}')"
   ]
  },
  {
   "cell_type": "code",
   "execution_count": 101,
   "id": "82fb7d3d",
   "metadata": {},
   "outputs": [],
   "source": [
    "# Now predict for the whole dataset\n",
    "def predict(x, w, b):\n",
    "    \"\"\"single predict using linear regression\n",
    "        Args:\n",
    "            x (ndarray): Shape (n, ) examples with multiple features\n",
    "            w (ndarray): Shape (n, ) model weights parameters\n",
    "            b (scalar) : model bias\n",
    "            \n",
    "        Return:\n",
    "         p(scalar): prediction\n",
    "         \"\"\"\n",
    "    p = np.dot(x,w) + b\n",
    "    return p"
   ]
  },
  {
   "cell_type": "code",
   "execution_count": 102,
   "id": "04b14cb6",
   "metadata": {},
   "outputs": [
    {
     "name": "stdout",
     "output_type": "stream",
     "text": [
      "x_vec shape: (4,),x_vec value : [2104    5    1   45]\n",
      "f_wb shape: (), prediction is : 459.9999976194083\n"
     ]
    }
   ],
   "source": [
    "x_vec = x_train[0,:]\n",
    "print(f'x_vec shape: {x_vec.shape},x_vec value : {x_vec}')\n",
    "\n",
    "# Make a prediction using x_vec and w_init\n",
    "f_wb = predict_single_loop(x_vec, w_init, b_init)\n",
    "print(f'f_wb shape: {f_wb.shape}, prediction is : {f_wb}')"
   ]
  },
  {
   "cell_type": "markdown",
   "id": "f64aa235",
   "metadata": {},
   "source": [
    "# Compute the cost with Multiple variables\n",
    "The equation for the cost function with multiple variables **J(w,**b**)** is:\n",
    "$$\\mathbf{J(w, } b) = \\frac{1}{2m}\\sum_{i=0}^{m-1}(f_{w,b}(\\textbf{x}^{(i)})-y^{(i)})^2$$\n",
    "where: \n",
    "$$f_{\\textbf{w},b}(\\textbf{x}^{(i)}) = \\textbf{w.x}^{(i)}+b$$"
   ]
  },
  {
   "cell_type": "code",
   "execution_count": 103,
   "id": "dc25b997",
   "metadata": {},
   "outputs": [],
   "source": [
    "def compute_cost(X, y, w, b):\n",
    "    \"\"\"Compute cost:\n",
    "        Args:\n",
    "            X (ndarray): Shape (n, ) Data, examples with multiple features\n",
    "            y (ndarray): target values\n",
    "            w (ndarray): Shape (n, ) model weights parameters\n",
    "            b (scalar) : model bias\n",
    "            \n",
    "        Return:\n",
    "         cost(scalar) : cost\n",
    "         \"\"\"\n",
    "    m = X.shape[0]\n",
    "    cost = 0.0\n",
    "    for i in range(m):\n",
    "        f_wb_i = np.dot(X[i], w) + b\n",
    "        cost = cost + (f_wb_i - y[i])**2\n",
    "    cost  = cost / (2*m)\n",
    "    return cost"
   ]
  },
  {
   "cell_type": "code",
   "execution_count": 104,
   "id": "9bd652e4",
   "metadata": {},
   "outputs": [
    {
     "name": "stdout",
     "output_type": "stream",
     "text": [
      "cost with the initial values of w : 1.5578904045996674e-12\n"
     ]
    }
   ],
   "source": [
    "cost = compute_cost(x_train, y_train, w_init, b_init)\n",
    "print(f'cost with the initial values of w : {cost}')"
   ]
  },
  {
   "cell_type": "markdown",
   "id": "b9ddd80d",
   "metadata": {},
   "source": [
    "# Gradient descent with multiple variables\n",
    "Gradient descent for multiple variables:\n",
    "$$ \\text{repeat until convergence:} \\{ \\\\\n",
    "w_j = w_j - \\alpha \\frac{\\partial (\\textbf{J(w,}b)}{\\partial w_j} \\dots \\text{for n = 0,}\\dots \\text{n-1} \\\\\n",
    "b = b - \\alpha \\frac{\\partial (\\textbf{J(w,}b)}{\\partial b}\\\\\n",
    "\\}$$\n",
    "\n",
    "where, n is the number of features, parameters $w_j$, $b$ are updated simultaneously and where\n",
    "\n",
    "\\begin{equation*}\\frac{\\partial\\mathbf{J(w, } b)}{\\partial w_j} = \\frac{1}{m}\\sum_{i=0}^{m-1}(f_{w,b}(\\textbf{x}^{(i)})-y^{(i)})x_j^{(i)}\n",
    "\\end{equation*}\n",
    "$$\\frac{\\partial\\mathbf{J(w, } b)}{\\partial b} = \\frac{1}{m}\\sum_{i=0}^{m-1}(f_{w,b}(\\textbf{x}^{(i)})-y^{(i)})$$\n",
    "\n",
    "- m is the number of training examples in the data set.\n",
    "- $f_{w,b}(\\textbf{x}^{(i)})$ is the prediction of the model, while $y^{(i)}$ is the target value."
   ]
  },
  {
   "cell_type": "markdown",
   "id": "017ff1e0",
   "metadata": {},
   "source": [
    "# Compute Gradient with multiple variables\n"
   ]
  },
  {
   "cell_type": "code",
   "execution_count": 105,
   "id": "7bfd9b47",
   "metadata": {},
   "outputs": [],
   "source": [
    "def compute_gradient(X, y, w, b):\n",
    "    m, n = X.shape\n",
    "    dj_dw = np.zeros((n,))\n",
    "    dj_db = 0.0\n",
    "    for i in range(m):\n",
    "        err = np.dot(X[i],w) + b - y[i]\n",
    "        for j in range(n):\n",
    "            dj_dw[j] = dj_dw[j] + err * X[i,j]\n",
    "        dj_db = dj_db + err\n",
    "    dj_dw = dj_dw / m\n",
    "    dj_db = dj_db / m\n",
    "    \n",
    "    return dj_dw, dj_db\n",
    "    "
   ]
  },
  {
   "cell_type": "code",
   "execution_count": 106,
   "id": "5da7b04d",
   "metadata": {},
   "outputs": [
    {
     "name": "stdout",
     "output_type": "stream",
     "text": [
      "dj_dw at the initial w, b: [-2.73e-03 -6.27e-06 -2.22e-06 -6.92e-05]\n",
      "dj_db at the initial w, b: -1.6739251122999121e-06\n"
     ]
    }
   ],
   "source": [
    "# Compute and display the gradient \n",
    "tmp_dj_dw, tmp_dj_db = compute_gradient(x_train, y_train, w_init, b_init)\n",
    "print(f'dj_dw at the initial w, b: {tmp_dj_dw}')\n",
    "print(f'dj_db at the initial w, b: {tmp_dj_db}')"
   ]
  },
  {
   "cell_type": "markdown",
   "id": "5fb4f8b3",
   "metadata": {},
   "source": [
    "$\\textbf{Expected results:}$ \n",
    "\n",
    "dj\\_dw at the initial w, b is $[ -2.73e^{-03}, -6.27e^{-06}, -2.22e^{06}, -6.92e^{-05}]$ \n",
    "\n",
    "dj\\_db at the initial w, b is $ -1.673925169143331e^{-06}$"
   ]
  },
  {
   "cell_type": "markdown",
   "id": "ff1f5634",
   "metadata": {},
   "source": [
    "# Gradient descent with multiple variables"
   ]
  },
  {
   "cell_type": "code",
   "execution_count": 107,
   "id": "2c9f4044",
   "metadata": {},
   "outputs": [],
   "source": [
    "def gradient_descent(X, y, w_in, b_in, cost_function, gradient_function, alpha, num_iters):\n",
    "    \"\"\"Args:\n",
    "            X :                Data set, m examples with n features\n",
    "            y :                target values\n",
    "            w_in:              initial model weights \n",
    "            b_in:              initial bias\n",
    "            cost_function:     function to compute the cost\n",
    "            gradient_function: function to compute gradient\n",
    "            alpha:             learning rate\n",
    "            num_iters:         number of iterations to run gradient descent\n",
    "        \n",
    "        \n",
    "       Returns: \n",
    "            w :                updated values of parameter\n",
    "            b :                updated values of bias parameter\n",
    "    \"\"\"\n",
    "    \n",
    "    # An array to store cost J and w's at each iteration primarily for graphing later\n",
    "    J_history = []\n",
    "    w = copy.deepcopy(w_in)   # avoid modifying global w within the function\n",
    "    b = b_in\n",
    "    \n",
    "    for i in range(num_iters):\n",
    "        # Calculate the gradient and update the parameters\n",
    "        dj_dw, dj_db = gradient_function(X,y,w,b)\n",
    "        \n",
    "        # update the parameters using w, b, alpha and gradient\n",
    "        w = w - alpha*dj_dw\n",
    "        b = b - alpha*dj_db\n",
    "        \n",
    "        # save the record of the cost J at each iteration\n",
    "        if i < 100000:\n",
    "            J_history.append(cost_function(X, y, w, b))\n",
    "        \n",
    "        # print the cost at the number of iteration multiple of 10's\n",
    "        if i% math.ceil(num_iters / 10) == 0:\n",
    "            print(f' Iteration {i: 4d}, : cost {J_history[-1]:8.2f}')\n",
    "    \n",
    "    return w, b, J_history    # return the final w, b, and J history for graphing. "
   ]
  },
  {
   "cell_type": "markdown",
   "id": "2d12a3f8",
   "metadata": {},
   "source": [
    "# Implementation"
   ]
  },
  {
   "cell_type": "code",
   "execution_count": 111,
   "id": "ff621628",
   "metadata": {},
   "outputs": [
    {
     "name": "stdout",
     "output_type": "stream",
     "text": [
      " Iteration    0, : cost  2529.46\n",
      " Iteration  100, : cost   695.99\n",
      " Iteration  200, : cost   694.92\n",
      " Iteration  300, : cost   693.86\n",
      " Iteration  400, : cost   692.81\n",
      " Iteration  500, : cost   691.77\n",
      " Iteration  600, : cost   690.73\n",
      " Iteration  700, : cost   689.71\n",
      " Iteration  800, : cost   688.70\n",
      " Iteration  900, : cost   687.69\n",
      "w and b found by the gradient_descent: -0.00, [ 0.2   0.   -0.01 -0.07]\n",
      " Prediction :  426.185305, target values : 460\n",
      " Prediction :  286.167472, target values : 232\n",
      " Prediction :  171.467631, target values : 178\n"
     ]
    }
   ],
   "source": [
    "# initialize the parameters\n",
    "initial_w = np.zeros_like(w_init)\n",
    "initial_b = np.zeros_like(b_init)\n",
    "# iteration and learning rate\n",
    "iterations = 1000\n",
    "alpha = 5.0e-7\n",
    "# run gradient descent\n",
    "w_final, b_final, J_hist = gradient_descent(x_train, y_train, initial_w, initial_b, compute_cost, compute_gradient,\n",
    "                                           alpha, iterations)\n",
    "# print the final w and b\n",
    "\n",
    "print(f'w and b found by the gradient_descent: {b_final:0.2f}, {w_final}')\n",
    "m,_ = x_train.shape\n",
    "\n",
    "for i in range(m):\n",
    "    print(f' Prediction : {np.dot(x_train[i], w_final) + b_final: 0.6f}, target values : {y_train[i]}')\n"
   ]
  },
  {
   "cell_type": "code",
   "execution_count": 128,
   "id": "8b1d1650",
   "metadata": {},
   "outputs": [
    {
     "data": {
      "text/plain": [
       "Text(0, 0.5, 'Cost')"
      ]
     },
     "execution_count": 128,
     "metadata": {},
     "output_type": "execute_result"
    },
    {
     "data": {
      "image/png": "[encoded data removed]",
      "text/plain": [
       "<Figure size 1200x400 with 2 Axes>"
      ]
     },
     "metadata": {},
     "output_type": "display_data"
    }
   ],
   "source": [
    "# plot of cost versus iterations\n",
    "fig, axs = plt.subplots(1, 2, constrained_layout = True, figsize = (12, 4))\n",
    "axs[0].plot(J_hist)\n",
    "axs[1].plot(5 + np.arange(len(J_hist[5:])), J_hist[5:])\n",
    "axs[0].set_title('Track for cost'); axs[1].set_title('Cost vs iterations (Tails of it)')\n",
    "axs[0].set_xlabel('iterations'); axs[1].set_xlabel('iterations')\n",
    "axs[0].set_ylabel('Cost'); axs[1].set_ylabel('Cost')"
   ]
  },
  {
   "cell_type": "code",
   "execution_count": null,
   "id": "7f1cd9da",
   "metadata": {},
   "outputs": [],
   "source": []
  },
  {
   "cell_type": "code",
   "execution_count": null,
   "id": "c07c5bf0",
   "metadata": {},
   "outputs": [],
   "source": []
  }
 ],
 "metadata": {
  "kernelspec": {
   "display_name": "Python 3 (ipykernel)",
   "language": "python",
   "name": "python3"
  },
  "language_info": {
   "codemirror_mode": {
    "name": "ipython",
    "version": 3
   },
   "file_extension": ".py",
   "mimetype": "text/x-python",
   "name": "python",
   "nbconvert_exporter": "python",
   "pygments_lexer": "ipython3",
   "version": "3.10.4"
  }
 },
 "nbformat": 4,
 "nbformat_minor": 5
}
